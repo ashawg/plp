{
 "cells": [
  {
   "cell_type": "code",
   "execution_count": 1,
   "id": "94a4114f-e2a6-413e-bb0d-d116efafe9f5",
   "metadata": {},
   "outputs": [],
   "source": [
    "def calculate_discount(price, discount_percent):\n",
    "    if discount_percent >= 20:\n",
    "        return f\"Final price after discount is {price*((100-discount_percent)/100)}.\"\n",
    "    else:\n",
    "        return f\"No discount applied. Price = {price}\""
   ]
  },
  {
   "cell_type": "code",
   "execution_count": 2,
   "id": "475a8648-dc8c-4b7a-82ff-b23c77938904",
   "metadata": {},
   "outputs": [
    {
     "name": "stdin",
     "output_type": "stream",
     "text": [
      "Enter original price:  20000\n",
      "Enter discount percentage:  20\n"
     ]
    },
    {
     "data": {
      "text/plain": [
       "'Final price after discount is 16000.0.'"
      ]
     },
     "execution_count": 2,
     "metadata": {},
     "output_type": "execute_result"
    }
   ],
   "source": [
    "price = float(input(\"Enter original price: \"))\n",
    "discount_percent = float(input(\"Enter discount percentage: \"))\n",
    "\n",
    "calculate_discount(price, discount_percent)"
   ]
  },
  {
   "cell_type": "code",
   "execution_count": null,
   "id": "d794e47a-ecac-43be-88d1-83c410fa5a69",
   "metadata": {},
   "outputs": [],
   "source": []
  }
 ],
 "metadata": {
  "kernelspec": {
   "display_name": "Python 3 (ipykernel)",
   "language": "python",
   "name": "python3"
  },
  "language_info": {
   "codemirror_mode": {
    "name": "ipython",
    "version": 3
   },
   "file_extension": ".py",
   "mimetype": "text/x-python",
   "name": "python",
   "nbconvert_exporter": "python",
   "pygments_lexer": "ipython3",
   "version": "3.13.5"
  }
 },
 "nbformat": 4,
 "nbformat_minor": 5
}
