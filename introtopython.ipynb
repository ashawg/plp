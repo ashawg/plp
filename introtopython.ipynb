{
 "cells": [
  {
   "cell_type": "code",
   "execution_count": null,
   "id": "ebdd9a5f",
   "metadata": {},
   "outputs": [
    {
     "name": "stdout",
     "output_type": "stream",
     "text": [
      "Welcome back Asha!\n"
     ]
    }
   ],
   "source": [
    "#name = input(\"What is your name?\")\n",
    "#print(f\"Welcome back {name}!\")"
   ]
  },
  {
   "cell_type": "code",
   "execution_count": 4,
   "id": "c1bb68ed",
   "metadata": {},
   "outputs": [
    {
     "name": "stdout",
     "output_type": "stream",
     "text": [
      "Divisor cannot be zero!\n"
     ]
    }
   ],
   "source": [
    "a = float(input(\"Enter a number: \"))\n",
    "b = float(input(\"Enter another number: \"))\n",
    "operator = input(\"Enter an operator (e.g: +,-,*,/): \")\n",
    "\n",
    "if operator == \"+\":\n",
    "    print(f\"{a} + {b} = {a+b}\")\n",
    "elif operator == \"-\":\n",
    "    print(f\"{a} - {b} = {a-b}\")\n",
    "elif operator == \"*\":\n",
    "    print(f\"{a} * {b} = {a*b}\")\n",
    "elif operator == \"/\":\n",
    "    if b != 0:\n",
    "        print(f\"{a} / {b} = {a/b}\")\n",
    "    else:\n",
    "        print(\"Divisor cannot be zero!\")\n",
    "else:\n",
    "    print(\"Enter a valid operator!\")"
   ]
  },
  {
   "cell_type": "code",
   "execution_count": null,
   "id": "0ed044f3",
   "metadata": {},
   "outputs": [],
   "source": []
  }
 ],
 "metadata": {
  "kernelspec": {
   "display_name": "base",
   "language": "python",
   "name": "python3"
  },
  "language_info": {
   "codemirror_mode": {
    "name": "ipython",
    "version": 3
   },
   "file_extension": ".py",
   "mimetype": "text/x-python",
   "name": "python",
   "nbconvert_exporter": "python",
   "pygments_lexer": "ipython3",
   "version": "3.13.5"
  }
 },
 "nbformat": 4,
 "nbformat_minor": 5
}
