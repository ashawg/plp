{
 "cells": [
  {
   "cell_type": "code",
   "execution_count": 3,
   "id": "6379c997-bc09-4dce-bc66-2cbfc80fb48a",
   "metadata": {},
   "outputs": [
    {
     "name": "stdout",
     "output_type": "stream",
     "text": [
      "{'Nepal': 'Kathmandu', 'Italy': 'Rome', 'England': 'London'}\n"
     ]
    }
   ],
   "source": [
    "capital_city = {\"Nepal\":\"Kathmandu\",\"Italy\":\"Rome\",\"England\":\"London\"}\n",
    "print(capital_city)"
   ]
  },
  {
   "cell_type": "code",
   "execution_count": 5,
   "id": "2a617f10-28b5-4958-a1e6-d93ba985d3b1",
   "metadata": {},
   "outputs": [
    {
     "name": "stdout",
     "output_type": "stream",
     "text": [
      "Student ID:  {112, 114, 116, 118}\n"
     ]
    }
   ],
   "source": [
    "student_id = {112, 114, 116, 118} #sets\n",
    "print(\"Student ID: \", student_id)"
   ]
  },
  {
   "cell_type": "code",
   "execution_count": 19,
   "id": "69ab5886-935a-45d2-9510-107dd138f5b0",
   "metadata": {},
   "outputs": [
    {
     "name": "stdout",
     "output_type": "stream",
     "text": [
      "3\n"
     ]
    }
   ],
   "source": [
    "my_list = [10,20,30,40]\n",
    "my_list.insert(1,15)\n",
    "other_list = [50,60,70]\n",
    "my_list.extend(other_list)\n",
    "del my_list[-1]\n",
    "my_list.sort()\n",
    "\n",
    "for num in my_list:\n",
    "    if num == 30:\n",
    "        print(my_list.index(num))\n",
    "\n",
    "#print(my_list)"
   ]
  },
  {
   "cell_type": "code",
   "execution_count": null,
   "id": "e8033a8c-88d8-4c50-b9c4-e40bf19a3ba3",
   "metadata": {},
   "outputs": [],
   "source": []
  }
 ],
 "metadata": {
  "kernelspec": {
   "display_name": "Python 3 (ipykernel)",
   "language": "python",
   "name": "python3"
  },
  "language_info": {
   "codemirror_mode": {
    "name": "ipython",
    "version": 3
   },
   "file_extension": ".py",
   "mimetype": "text/x-python",
   "name": "python",
   "nbconvert_exporter": "python",
   "pygments_lexer": "ipython3",
   "version": "3.13.5"
  }
 },
 "nbformat": 4,
 "nbformat_minor": 5
}
